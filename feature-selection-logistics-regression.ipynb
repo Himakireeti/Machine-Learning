{
 "cells": [
  {
   "cell_type": "code",
   "execution_count": 1,
   "metadata": {},
   "outputs": [],
   "source": [
    "import warnings # Ignoreing all the warning\n",
    "warnings.filterwarnings(\"ignore\")"
   ]
  },
  {
   "cell_type": "code",
   "execution_count": 2,
   "metadata": {},
   "outputs": [],
   "source": [
    "# Loading all the library\n",
    "import os\n",
    "import numpy\n",
    "import pandas as pd\n",
    "import numpy as np\n",
    "from numpy import array\n",
    "from numpy import argmax\n",
    "from sklearn.preprocessing import LabelEncoder\n",
    "from sklearn.preprocessing import OneHotEncoder\n",
    "from sklearn.model_selection import train_test_split\n",
    "from sklearn.linear_model import LogisticRegression\n",
    "from sklearn.ensemble import AdaBoostClassifier\n",
    "from sklearn.tree import DecisionTreeClassifier\n",
    "from sklearn.svm import SVC\n",
    "from sklearn.ensemble import RandomForestClassifier\n",
    "from sklearn.neighbors import NearestNeighbors\n",
    "import matplotlib.pyplot as pyplot\n",
    "import seaborn as sns\n",
    "from sklearn.metrics import accuracy_score, confusion_matrix,precision_score,recall_score\n",
    "%matplotlib inline"
   ]
  },
  {
   "cell_type": "markdown",
   "metadata": {},
   "source": [
    "# Loading the data "
   ]
  },
  {
   "cell_type": "code",
   "execution_count": 4,
   "metadata": {},
   "outputs": [
    {
     "data": {
      "text/plain": [
       "Index(['age', 'sex', 'cp', 'trestbps', 'chol', 'fbs', 'restecg', 'thalach',\n",
       "       'exang', 'oldpeak', 'slope', 'ca', 'thal', 'target'],\n",
       "      dtype='object')"
      ]
     },
     "execution_count": 4,
     "metadata": {},
     "output_type": "execute_result"
    }
   ],
   "source": [
    "Data = pd.read_csv(\"heart.csv\")\n",
    "Data.columns # # column Name of Data"
   ]
  },
  {
   "cell_type": "code",
   "execution_count": 5,
   "metadata": {},
   "outputs": [
    {
     "data": {
      "text/html": [
       "<div>\n",
       "<style scoped>\n",
       "    .dataframe tbody tr th:only-of-type {\n",
       "        vertical-align: middle;\n",
       "    }\n",
       "\n",
       "    .dataframe tbody tr th {\n",
       "        vertical-align: top;\n",
       "    }\n",
       "\n",
       "    .dataframe thead th {\n",
       "        text-align: right;\n",
       "    }\n",
       "</style>\n",
       "<table border=\"1\" class=\"dataframe\">\n",
       "  <thead>\n",
       "    <tr style=\"text-align: right;\">\n",
       "      <th></th>\n",
       "      <th>age</th>\n",
       "      <th>sex</th>\n",
       "      <th>cp</th>\n",
       "      <th>trestbps</th>\n",
       "      <th>chol</th>\n",
       "      <th>fbs</th>\n",
       "      <th>restecg</th>\n",
       "      <th>thalach</th>\n",
       "      <th>exang</th>\n",
       "      <th>oldpeak</th>\n",
       "      <th>slope</th>\n",
       "      <th>ca</th>\n",
       "      <th>thal</th>\n",
       "      <th>target</th>\n",
       "    </tr>\n",
       "  </thead>\n",
       "  <tbody>\n",
       "    <tr>\n",
       "      <th>0</th>\n",
       "      <td>63</td>\n",
       "      <td>1</td>\n",
       "      <td>3</td>\n",
       "      <td>145</td>\n",
       "      <td>233</td>\n",
       "      <td>1</td>\n",
       "      <td>0</td>\n",
       "      <td>150</td>\n",
       "      <td>0</td>\n",
       "      <td>2.3</td>\n",
       "      <td>0</td>\n",
       "      <td>0</td>\n",
       "      <td>1</td>\n",
       "      <td>1</td>\n",
       "    </tr>\n",
       "    <tr>\n",
       "      <th>1</th>\n",
       "      <td>37</td>\n",
       "      <td>1</td>\n",
       "      <td>2</td>\n",
       "      <td>130</td>\n",
       "      <td>250</td>\n",
       "      <td>0</td>\n",
       "      <td>1</td>\n",
       "      <td>187</td>\n",
       "      <td>0</td>\n",
       "      <td>3.5</td>\n",
       "      <td>0</td>\n",
       "      <td>0</td>\n",
       "      <td>2</td>\n",
       "      <td>1</td>\n",
       "    </tr>\n",
       "    <tr>\n",
       "      <th>2</th>\n",
       "      <td>41</td>\n",
       "      <td>0</td>\n",
       "      <td>1</td>\n",
       "      <td>130</td>\n",
       "      <td>204</td>\n",
       "      <td>0</td>\n",
       "      <td>0</td>\n",
       "      <td>172</td>\n",
       "      <td>0</td>\n",
       "      <td>1.4</td>\n",
       "      <td>2</td>\n",
       "      <td>0</td>\n",
       "      <td>2</td>\n",
       "      <td>1</td>\n",
       "    </tr>\n",
       "    <tr>\n",
       "      <th>3</th>\n",
       "      <td>56</td>\n",
       "      <td>1</td>\n",
       "      <td>1</td>\n",
       "      <td>120</td>\n",
       "      <td>236</td>\n",
       "      <td>0</td>\n",
       "      <td>1</td>\n",
       "      <td>178</td>\n",
       "      <td>0</td>\n",
       "      <td>0.8</td>\n",
       "      <td>2</td>\n",
       "      <td>0</td>\n",
       "      <td>2</td>\n",
       "      <td>1</td>\n",
       "    </tr>\n",
       "    <tr>\n",
       "      <th>4</th>\n",
       "      <td>57</td>\n",
       "      <td>0</td>\n",
       "      <td>0</td>\n",
       "      <td>120</td>\n",
       "      <td>354</td>\n",
       "      <td>0</td>\n",
       "      <td>1</td>\n",
       "      <td>163</td>\n",
       "      <td>1</td>\n",
       "      <td>0.6</td>\n",
       "      <td>2</td>\n",
       "      <td>0</td>\n",
       "      <td>2</td>\n",
       "      <td>1</td>\n",
       "    </tr>\n",
       "    <tr>\n",
       "      <th>5</th>\n",
       "      <td>57</td>\n",
       "      <td>1</td>\n",
       "      <td>0</td>\n",
       "      <td>140</td>\n",
       "      <td>192</td>\n",
       "      <td>0</td>\n",
       "      <td>1</td>\n",
       "      <td>148</td>\n",
       "      <td>0</td>\n",
       "      <td>0.4</td>\n",
       "      <td>1</td>\n",
       "      <td>0</td>\n",
       "      <td>1</td>\n",
       "      <td>1</td>\n",
       "    </tr>\n",
       "    <tr>\n",
       "      <th>6</th>\n",
       "      <td>56</td>\n",
       "      <td>0</td>\n",
       "      <td>1</td>\n",
       "      <td>140</td>\n",
       "      <td>294</td>\n",
       "      <td>0</td>\n",
       "      <td>0</td>\n",
       "      <td>153</td>\n",
       "      <td>0</td>\n",
       "      <td>1.3</td>\n",
       "      <td>1</td>\n",
       "      <td>0</td>\n",
       "      <td>2</td>\n",
       "      <td>1</td>\n",
       "    </tr>\n",
       "    <tr>\n",
       "      <th>7</th>\n",
       "      <td>44</td>\n",
       "      <td>1</td>\n",
       "      <td>1</td>\n",
       "      <td>120</td>\n",
       "      <td>263</td>\n",
       "      <td>0</td>\n",
       "      <td>1</td>\n",
       "      <td>173</td>\n",
       "      <td>0</td>\n",
       "      <td>0.0</td>\n",
       "      <td>2</td>\n",
       "      <td>0</td>\n",
       "      <td>3</td>\n",
       "      <td>1</td>\n",
       "    </tr>\n",
       "    <tr>\n",
       "      <th>8</th>\n",
       "      <td>52</td>\n",
       "      <td>1</td>\n",
       "      <td>2</td>\n",
       "      <td>172</td>\n",
       "      <td>199</td>\n",
       "      <td>1</td>\n",
       "      <td>1</td>\n",
       "      <td>162</td>\n",
       "      <td>0</td>\n",
       "      <td>0.5</td>\n",
       "      <td>2</td>\n",
       "      <td>0</td>\n",
       "      <td>3</td>\n",
       "      <td>1</td>\n",
       "    </tr>\n",
       "    <tr>\n",
       "      <th>9</th>\n",
       "      <td>57</td>\n",
       "      <td>1</td>\n",
       "      <td>2</td>\n",
       "      <td>150</td>\n",
       "      <td>168</td>\n",
       "      <td>0</td>\n",
       "      <td>1</td>\n",
       "      <td>174</td>\n",
       "      <td>0</td>\n",
       "      <td>1.6</td>\n",
       "      <td>2</td>\n",
       "      <td>0</td>\n",
       "      <td>2</td>\n",
       "      <td>1</td>\n",
       "    </tr>\n",
       "  </tbody>\n",
       "</table>\n",
       "</div>"
      ],
      "text/plain": [
       "   age  sex  cp  trestbps  chol  fbs  restecg  thalach  exang  oldpeak  slope  \\\n",
       "0   63    1   3       145   233    1        0      150      0      2.3      0   \n",
       "1   37    1   2       130   250    0        1      187      0      3.5      0   \n",
       "2   41    0   1       130   204    0        0      172      0      1.4      2   \n",
       "3   56    1   1       120   236    0        1      178      0      0.8      2   \n",
       "4   57    0   0       120   354    0        1      163      1      0.6      2   \n",
       "5   57    1   0       140   192    0        1      148      0      0.4      1   \n",
       "6   56    0   1       140   294    0        0      153      0      1.3      1   \n",
       "7   44    1   1       120   263    0        1      173      0      0.0      2   \n",
       "8   52    1   2       172   199    1        1      162      0      0.5      2   \n",
       "9   57    1   2       150   168    0        1      174      0      1.6      2   \n",
       "\n",
       "   ca  thal  target  \n",
       "0   0     1       1  \n",
       "1   0     2       1  \n",
       "2   0     2       1  \n",
       "3   0     2       1  \n",
       "4   0     2       1  \n",
       "5   0     1       1  \n",
       "6   0     2       1  \n",
       "7   0     3       1  \n",
       "8   0     3       1  \n",
       "9   0     2       1  "
      ]
     },
     "execution_count": 5,
     "metadata": {},
     "output_type": "execute_result"
    }
   ],
   "source": [
    "Data.head(10)"
   ]
  },
  {
   "cell_type": "markdown",
   "metadata": {},
   "source": [
    "# Count of Target variable"
   ]
  },
  {
   "cell_type": "code",
   "execution_count": 6,
   "metadata": {},
   "outputs": [
    {
     "data": {
      "text/plain": [
       "1    165\n",
       "0    138\n",
       "Name: target, dtype: int64"
      ]
     },
     "execution_count": 6,
     "metadata": {},
     "output_type": "execute_result"
    }
   ],
   "source": [
    "Data['target'].value_counts() # Get the value_counts for Heart Diseases class and not Heart Diseases "
   ]
  },
  {
   "cell_type": "markdown",
   "metadata": {},
   "source": [
    " ##### There is no imbalance in Data set so no need of downsampling"
   ]
  },
  {
   "cell_type": "code",
   "execution_count": 8,
   "metadata": {},
   "outputs": [
    {
     "data": {
      "image/png": "[encoded data removed]",
      "text/plain": [
       "<Figure size 432x288 with 1 Axes>"
      ]
     },
     "metadata": {},
     "output_type": "display_data"
    }
   ],
   "source": [
    "class_dist_df = pd.DataFrame(Data['target'].value_counts()).reset_index(drop=True)# Reseting the index and get the counts for each class \n",
    "class_dist_df['class']= ['HD','WHD'] # HD Means Heart diseases and WHD means NO diseases\n",
    "sns.barplot(y = 'target', x = class_dist_df['class'], data=class_dist_df) # Plotting Class frequency vs Class\n",
    "pyplot.title('Class Frequency Vs Class Name')\n",
    "pyplot.show()"
   ]
  },
  {
   "cell_type": "markdown",
   "metadata": {},
   "source": [
    "# Data anlaysis and Feature Selection\n",
    "\n"
   ]
  },
  {
   "cell_type": "markdown",
   "metadata": {},
   "source": [
    "#### AGE ANALYSIS"
   ]
  },
  {
   "cell_type": "code",
   "execution_count": 9,
   "metadata": {
    "scrolled": true
   },
   "outputs": [],
   "source": [
    "DF_HD = Data[Data['target']==1] # Dataframe of Heart diseases\n",
    "DF_WHD = Data[Data['target']==0] # Dataframe of Without Heart diseases"
   ]
  },
  {
   "cell_type": "code",
   "execution_count": 10,
   "metadata": {},
   "outputs": [],
   "source": [
    "DF_HD.columns = ['age','sex','cp','trestbps','chol','fbs','restecg','thalach','exang','oldpeak','slope','ca','thal','target']\n",
    "DF_WHD.columns = ['age','sex','cp','trestbps','chol','fbs','restecg','thalach','exang','oldpeak','slope','ca','thal','target']"
   ]
  },
  {
   "cell_type": "code",
   "execution_count": 11,
   "metadata": {},
   "outputs": [
    {
     "data": {
      "text/plain": [
       "count    138.000000\n",
       "mean      56.601449\n",
       "std        7.962082\n",
       "min       35.000000\n",
       "25%       52.000000\n",
       "50%       58.000000\n",
       "75%       62.000000\n",
       "max       77.000000\n",
       "Name: age, dtype: float64"
      ]
     },
     "execution_count": 11,
     "metadata": {},
     "output_type": "execute_result"
    }
   ],
   "source": [
    "DF_WHD['age'].describe() #This will output the basic statsitics of age in population"
   ]
  },
  {
   "cell_type": "code",
   "execution_count": 12,
   "metadata": {},
   "outputs": [
    {
     "data": {
      "image/png": "[encoded data removed]",
      "text/plain": [
       "<Figure size 1440x432 with 1 Axes>"
      ]
     },
     "metadata": {},
     "output_type": "display_data"
    }
   ],
   "source": [
    "# Hist of Age\n",
    "DF =DF_HD.append(DF_WHD) \n",
    "pd.crosstab(DF['age'],DF['target']).plot(kind=\"bar\",figsize=(20,6))\n",
    "pyplot.title('Heart Disease Frequency for Ages')\n",
    "pyplot.xlabel('Age')\n",
    "pyplot.ylabel('Frequency')\n",
    "pyplot.savefig('heartDiseaseAndAges.png')\n",
    "pyplot.show()"
   ]
  },
  {
   "cell_type": "markdown",
   "metadata": {},
   "source": [
    "#### After analysis histrogram with age we are not able say anything about Heart diseases"
   ]
  },
  {
   "cell_type": "markdown",
   "metadata": {},
   "source": [
    "#### Gender analysis \n"
   ]
  },
  {
   "cell_type": "code",
   "execution_count": 13,
   "metadata": {},
   "outputs": [
    {
     "name": "stdout",
     "output_type": "stream",
     "text": [
      "male count with the heart dieases =\n"
     ]
    },
    {
     "data": {
      "text/plain": [
       "(None, 1    93\n",
       " Name: sex, dtype: int64)"
      ]
     },
     "execution_count": 13,
     "metadata": {},
     "output_type": "execute_result"
    }
   ],
   "source": [
    "print ('male count with the heart dieases ='), DF_HD[DF_HD['sex']==1]['sex'].value_counts() # 1 means Male in Sex Column"
   ]
  },
  {
   "cell_type": "code",
   "execution_count": 14,
   "metadata": {},
   "outputs": [
    {
     "name": "stdout",
     "output_type": "stream",
     "text": [
      "male count without the heart dieases =\n"
     ]
    },
    {
     "data": {
      "text/plain": [
       "(None, 114)"
      ]
     },
     "execution_count": 14,
     "metadata": {},
     "output_type": "execute_result"
    }
   ],
   "source": [
    "print ('male count without the heart dieases ='), DF_WHD[DF_WHD['sex']==1]['sex'].count() # 0 means Female in Sex column"
   ]
  },
  {
   "cell_type": "code",
   "execution_count": 15,
   "metadata": {},
   "outputs": [
    {
     "name": "stdout",
     "output_type": "stream",
     "text": [
      "Female count with the heart dieases =\n"
     ]
    },
    {
     "data": {
      "text/plain": [
       "(None, 72)"
      ]
     },
     "execution_count": 15,
     "metadata": {},
     "output_type": "execute_result"
    }
   ],
   "source": [
    "print ('Female count with the heart dieases ='), len(DF_HD[DF_HD['sex']==0]['sex'])"
   ]
  },
  {
   "cell_type": "code",
   "execution_count": 16,
   "metadata": {},
   "outputs": [
    {
     "name": "stdout",
     "output_type": "stream",
     "text": [
      "Female count without the heart dieases =\n"
     ]
    },
    {
     "data": {
      "text/plain": [
       "(None, 24)"
      ]
     },
     "execution_count": 16,
     "metadata": {},
     "output_type": "execute_result"
    }
   ],
   "source": [
    "print ('Female count without the heart dieases ='), len(DF_WHD[DF_WHD['sex']==0]['sex'])"
   ]
  },
  {
   "cell_type": "code",
   "execution_count": 17,
   "metadata": {},
   "outputs": [
    {
     "data": {
      "image/png": "[encoded data removed]",
      "text/plain": [
       "<Figure size 432x288 with 1 Axes>"
      ]
     },
     "metadata": {},
     "output_type": "display_data"
    }
   ],
   "source": [
    "Gender_HD = pd.DataFrame(DF_HD['sex'].value_counts()).reset_index() # Value counts for sex with Heart diseases\n",
    "Gender_WHD = pd.DataFrame(DF_WHD['sex'].value_counts()).reset_index() # Value counts for sex with withot Heart diseases\n",
    "Gender_HD['class'] = \"HD\"\n",
    "Gender_WHD['class'] = \"WHD\"\n",
    "Gender_HD['index'] =['Male','Female']\n",
    "Gender_WHD['index'] =['Male','Female']\n",
    "Gender_DF = Gender_HD.append(Gender_WHD)\n",
    "Gender_DF.columns = ['Category','Gender_count','class']\n",
    "sns.barplot(y='Gender_count', x='Category', data=Gender_DF, hue='class')\n",
    "pyplot.title('Gender Frequency vs Gender_Name')\n",
    "pyplot.show()"
   ]
  },
  {
   "cell_type": "markdown",
   "metadata": {},
   "source": [
    "#### Female population are more tend to Heart dieases in the population \n"
   ]
  },
  {
   "cell_type": "markdown",
   "metadata": {},
   "source": [
    "#### combine 2 Features gender and male"
   ]
  },
  {
   "cell_type": "code",
   "execution_count": 18,
   "metadata": {},
   "outputs": [
    {
     "name": "stdout",
     "output_type": "stream",
     "text": [
      "male age with heart dieases =\n",
      "male age without heart dieases =\n",
      "Female age without heart dieases =\n",
      "Female age without heart dieases =\n"
     ]
    },
    {
     "data": {
      "text/plain": [
       "(None, count    72.000000\n",
       " mean     54.555556\n",
       " std      10.265337\n",
       " min      34.000000\n",
       " 25%      46.000000\n",
       " 50%      54.000000\n",
       " 75%      63.250000\n",
       " max      76.000000\n",
       " Name: age, dtype: float64)"
      ]
     },
     "execution_count": 18,
     "metadata": {},
     "output_type": "execute_result"
    }
   ],
   "source": [
    "print ('male age with heart dieases ='), DF_HD[DF_HD['sex']==1]['age'].describe()\n",
    "print ('male age without heart dieases ='), DF_WHD[DF_WHD['sex']==1]['age'].describe()\n",
    "print ('Female age without heart dieases ='), DF_WHD[DF_WHD['sex']==0]['age'].describe()\n",
    "print ('Female age without heart dieases ='), DF_HD[DF_HD['sex']==0]['age'].describe()"
   ]
  },
  {
   "cell_type": "markdown",
   "metadata": {},
   "source": [
    "#### Chest Pain Type Analysis"
   ]
  },
  {
   "cell_type": "code",
   "execution_count": 19,
   "metadata": {},
   "outputs": [
    {
     "data": {
      "text/plain": [
       "2    69\n",
       "1    41\n",
       "0    39\n",
       "3    16\n",
       "Name: cp, dtype: int64"
      ]
     },
     "execution_count": 19,
     "metadata": {},
     "output_type": "execute_result"
    }
   ],
   "source": [
    "DF_HD['cp'].value_counts() # Get value counts for each class "
   ]
  },
  {
   "cell_type": "code",
   "execution_count": 20,
   "metadata": {},
   "outputs": [
    {
     "data": {
      "text/plain": [
       "0    104\n",
       "2     18\n",
       "1      9\n",
       "3      7\n",
       "Name: cp, dtype: int64"
      ]
     },
     "execution_count": 20,
     "metadata": {},
     "output_type": "execute_result"
    }
   ],
   "source": [
    "DF_WHD['cp'].value_counts() # Get value counts for each class "
   ]
  },
  {
   "cell_type": "code",
   "execution_count": 22,
   "metadata": {
    "scrolled": true
   },
   "outputs": [
    {
     "data": {
      "image/png": "[encoded data removed]",
      "text/plain": [
       "<Figure size 432x288 with 1 Axes>"
      ]
     },
     "metadata": {},
     "output_type": "display_data"
    }
   ],
   "source": [
    "cp_dist_df = pd.DataFrame(DF_HD['cp'].value_counts()).reset_index() # Value counts for CP with Heart diseases\n",
    "cp_dist_Wdf = pd.DataFrame(DF_WHD['cp'].value_counts()).reset_index()# Value counts for CP without Heart diseases\n",
    "cp_dist_df['class'] = \"HD\"\n",
    "cp_dist_Wdf['class'] = \"WHD\"\n",
    "cp_dist_df_copy = cp_dist_df.copy()\n",
    "cp_dist_df_copy = cp_dist_df_copy.append(cp_dist_Wdf)\n",
    "cp_dist_df_copy.columns = [u'index', u'cp_frequency', u'class']\n",
    "sns.barplot(y='cp_frequency', x='index', data=cp_dist_df_copy, hue='class')\n",
    "pyplot.show()"
   ]
  },
  {
   "cell_type": "markdown",
   "metadata": {},
   "source": [
    "#### 0 means less possibilty of heart attack\n",
    "#### 1 means more possibity of heart attack\n",
    "#### 2 means more possibity of heart attack\n",
    "#### 3 means more or less possibity of heart attack confused.."
   ]
  },
  {
   "cell_type": "markdown",
   "metadata": {},
   "source": [
    "#### The resting blood Pressure "
   ]
  },
  {
   "cell_type": "code",
   "execution_count": 23,
   "metadata": {},
   "outputs": [
    {
     "data": {
      "text/plain": [
       "count    165.000000\n",
       "mean     129.303030\n",
       "std       16.169613\n",
       "min       94.000000\n",
       "25%      120.000000\n",
       "50%      130.000000\n",
       "75%      140.000000\n",
       "max      180.000000\n",
       "Name: trestbps, dtype: float64"
      ]
     },
     "execution_count": 23,
     "metadata": {},
     "output_type": "execute_result"
    }
   ],
   "source": [
    "DF_HD['trestbps'].describe() # Basic statsitics for trestbps for Heart Diseases cases"
   ]
  },
  {
   "cell_type": "code",
   "execution_count": 24,
   "metadata": {},
   "outputs": [
    {
     "data": {
      "text/plain": [
       "count    138.000000\n",
       "mean     134.398551\n",
       "std       18.729944\n",
       "min      100.000000\n",
       "25%      120.000000\n",
       "50%      130.000000\n",
       "75%      144.750000\n",
       "max      200.000000\n",
       "Name: trestbps, dtype: float64"
      ]
     },
     "execution_count": 24,
     "metadata": {},
     "output_type": "execute_result"
    }
   ],
   "source": [
    "DF_WHD['trestbps'].describe() # Basic statsitics for trestbps for without Heart Diseases cases"
   ]
  },
  {
   "cell_type": "code",
   "execution_count": 25,
   "metadata": {},
   "outputs": [
    {
     "data": {
      "image/png": "[encoded data removed]",
      "text/plain": [
       "<Figure size 432x288 with 1 Axes>"
      ]
     },
     "metadata": {},
     "output_type": "display_data"
    }
   ],
   "source": [
    "pyplot.plot(DF[DF['target']==0]['trestbps'].values,'ro',label='WHD') # Heart Diseases cases vs trestbps\n",
    "pyplot.plot(DF[DF['target']!=0]['trestbps'].values,'bo',label='HD') # Without Heart Diseases cases vs trestbps\n",
    "pyplot.xlabel('Index')\n",
    "pyplot.ylabel('trestbps')\n",
    "pyplot.title('Heart_disease VS trestbps')\n",
    "pyplot.legend()\n",
    "pyplot.show()"
   ]
  },
  {
   "cell_type": "code",
   "execution_count": 26,
   "metadata": {},
   "outputs": [
    {
     "data": {
      "image/png": "[encoded data removed]",
      "text/plain": [
       "<Figure size 432x288 with 1 Axes>"
      ]
     },
     "metadata": {},
     "output_type": "display_data"
    }
   ],
   "source": [
    "# Plot between age vs trestbps\n",
    "pyplot.plot(DF_WHD['age'],DF_WHD['trestbps'],'bo')\n",
    "pyplot.plot(DF_HD['age'],DF_HD['trestbps'],'ro')\n",
    "pyplot.title('age VS trestbps')\n",
    "pyplot.ylabel('age')\n",
    "pyplot.xlabel('trestbps')\n",
    "pyplot.show()"
   ]
  },
  {
   "cell_type": "markdown",
   "metadata": {},
   "source": [
    "#### No descision Boundary to classify between of heart disease and Not a heart disease with help of  trestbps\n"
   ]
  },
  {
   "cell_type": "markdown",
   "metadata": {},
   "source": [
    "#### chol analysis(serum cholestoral in mg/dl)"
   ]
  },
  {
   "cell_type": "code",
   "execution_count": 27,
   "metadata": {},
   "outputs": [
    {
     "data": {
      "text/plain": [
       "count    165.000000\n",
       "mean     242.230303\n",
       "std       53.552872\n",
       "min      126.000000\n",
       "25%      208.000000\n",
       "50%      234.000000\n",
       "75%      267.000000\n",
       "max      564.000000\n",
       "Name: chol, dtype: float64"
      ]
     },
     "execution_count": 27,
     "metadata": {},
     "output_type": "execute_result"
    }
   ],
   "source": [
    "DF_HD['chol'].describe()# Basic statsitics for chol for Heart Diseases cases"
   ]
  },
  {
   "cell_type": "code",
   "execution_count": 28,
   "metadata": {},
   "outputs": [
    {
     "data": {
      "text/plain": [
       "count    138.000000\n",
       "mean     251.086957\n",
       "std       49.454614\n",
       "min      131.000000\n",
       "25%      217.250000\n",
       "50%      249.000000\n",
       "75%      283.000000\n",
       "max      409.000000\n",
       "Name: chol, dtype: float64"
      ]
     },
     "execution_count": 28,
     "metadata": {},
     "output_type": "execute_result"
    }
   ],
   "source": [
    "DF_WHD['chol'].describe() # Basic statsitics for chol for without Heart Diseases cases"
   ]
  },
  {
   "cell_type": "code",
   "execution_count": 29,
   "metadata": {},
   "outputs": [
    {
     "data": {
      "image/png": "[encoded data removed]",
      "text/plain": [
       "<Figure size 432x288 with 1 Axes>"
      ]
     },
     "metadata": {},
     "output_type": "display_data"
    }
   ],
   "source": [
    "# Plot of target variable with chol level\n",
    "pyplot.plot(DF[DF['target']==0]['chol'].values,'ro',label='WHD')\n",
    "pyplot.plot(DF[DF['target']!=0]['chol'].values,'bo',label='HD')\n",
    "pyplot.xlabel('Dummy_Index')\n",
    "pyplot.ylabel('Chol_values')\n",
    "pyplot.title('Heart_dieases VS Chol')\n",
    "pyplot.legend()\n",
    "pyplot.show()"
   ]
  },
  {
   "cell_type": "code",
   "execution_count": 30,
   "metadata": {},
   "outputs": [
    {
     "data": {
      "image/png": "[encoded data removed]",
      "text/plain": [
       "<Figure size 432x288 with 1 Axes>"
      ]
     },
     "metadata": {},
     "output_type": "display_data"
    }
   ],
   "source": [
    "# Plot of age value with chol level\n",
    "pyplot.plot(DF_WHD['age'],DF_WHD['chol'],'bo',label='WHD')\n",
    "pyplot.plot(DF_HD['age'],DF_HD['chol'],'ro',label='HD')\n",
    "pyplot.title('age VS chol')\n",
    "pyplot.ylabel('age')\n",
    "pyplot.xlabel('chol')\n",
    "pyplot.legend()\n",
    "pyplot.show()"
   ]
  },
  {
   "cell_type": "markdown",
   "metadata": {},
   "source": [
    "#### No descision Boundary to classify between of heart disease and Not a heart disease with help of  chol"
   ]
  },
  {
   "cell_type": "markdown",
   "metadata": {},
   "source": [
    "#### FBS Analysis(fasting blood sugar)"
   ]
  },
  {
   "cell_type": "code",
   "execution_count": 31,
   "metadata": {},
   "outputs": [
    {
     "data": {
      "text/plain": [
       "0    142\n",
       "1     23\n",
       "Name: fbs, dtype: int64"
      ]
     },
     "execution_count": 31,
     "metadata": {},
     "output_type": "execute_result"
    }
   ],
   "source": [
    "DF_HD['fbs'].value_counts() # Value counts for categorical data (FBS) for heart disease"
   ]
  },
  {
   "cell_type": "code",
   "execution_count": 32,
   "metadata": {},
   "outputs": [
    {
     "data": {
      "text/plain": [
       "0    116\n",
       "1     22\n",
       "Name: fbs, dtype: int64"
      ]
     },
     "execution_count": 32,
     "metadata": {},
     "output_type": "execute_result"
    }
   ],
   "source": [
    "DF_WHD['fbs'].value_counts() # Value counts for categorical data (FBS) for without heart disease"
   ]
  },
  {
   "cell_type": "code",
   "execution_count": 33,
   "metadata": {},
   "outputs": [
    {
     "data": {
      "image/png": "[encoded data removed]",
      "text/plain": [
       "<Figure size 432x288 with 1 Axes>"
      ]
     },
     "metadata": {},
     "output_type": "display_data"
    }
   ],
   "source": [
    "fbs_dist_df = pd.DataFrame(DF_HD['fbs'].value_counts()).reset_index()\n",
    "fbs_dist_Wdf = pd.DataFrame(DF_WHD['fbs'].value_counts()).reset_index()\n",
    "fbs_dist_df['class'] = \"HD\"\n",
    "fbs_dist_Wdf['class'] = \"WHD\"\n",
    "fbs_dist_df_copy = fbs_dist_df.copy()\n",
    "fbs_dist_df_copy = fbs_dist_df_copy.append(fbs_dist_Wdf)\n",
    "fbs_dist_df_copy.columns = [u'index', u'fbs_frequency', u'class']\n",
    "sns.barplot(y='fbs_frequency', x='index', data=fbs_dist_df_copy, hue='class')\n",
    "pyplot.title('fbs_frequency vs class ')\n",
    "pyplot.show()"
   ]
  },
  {
   "cell_type": "markdown",
   "metadata": {},
   "source": [
    "#### Not providing much information about classification of Heart disease and Non Heart disease"
   ]
  },
  {
   "cell_type": "markdown",
   "metadata": {},
   "source": [
    "#### Restecg analysis(resting electrocardiographic results)"
   ]
  },
  {
   "cell_type": "code",
   "execution_count": 34,
   "metadata": {},
   "outputs": [
    {
     "data": {
      "text/plain": [
       "1    96\n",
       "0    68\n",
       "2     1\n",
       "Name: restecg, dtype: int64"
      ]
     },
     "execution_count": 34,
     "metadata": {},
     "output_type": "execute_result"
    }
   ],
   "source": [
    "DF_HD['restecg'].value_counts()  # Value counts for categorical data (restecg) for heart disease"
   ]
  },
  {
   "cell_type": "code",
   "execution_count": 35,
   "metadata": {},
   "outputs": [
    {
     "data": {
      "text/plain": [
       "0    79\n",
       "1    56\n",
       "2     3\n",
       "Name: restecg, dtype: int64"
      ]
     },
     "execution_count": 35,
     "metadata": {},
     "output_type": "execute_result"
    }
   ],
   "source": [
    "DF_WHD['restecg'].value_counts() # Value counts for categorical data (restecg) for without heart disease"
   ]
  },
  {
   "cell_type": "code",
   "execution_count": 36,
   "metadata": {
    "scrolled": true
   },
   "outputs": [
    {
     "data": {
      "image/png": "[encoded data removed]",
      "text/plain": [
       "<Figure size 432x288 with 1 Axes>"
      ]
     },
     "metadata": {},
     "output_type": "display_data"
    }
   ],
   "source": [
    "restecg_dist_df = pd.DataFrame(DF_HD['restecg'].value_counts()).reset_index() # value counts for restecg for Heart diseases Cases\n",
    "restecg_dist_Wdf = pd.DataFrame(DF_WHD['restecg'].value_counts()).reset_index()# value counts for restecg for without Heart diseases Cases\n",
    "restecg_dist_df['class'] = \"HD\"\n",
    "restecg_dist_Wdf['class'] = \"WHD\"\n",
    "restecg_dist_df_copy = restecg_dist_df.copy()\n",
    "restecg_dist_df_copy = restecg_dist_df_copy.append(restecg_dist_Wdf)\n",
    "restecg_dist_df_copy.columns = [u'index', u'restecg_frequency', u'class']\n",
    "sns.barplot(y='restecg_frequency', x='index', data=restecg_dist_df_copy, hue='class')\n",
    "pyplot.title('restecg_frequency vs index')\n",
    "pyplot.show()"
   ]
  },
  {
   "cell_type": "markdown",
   "metadata": {},
   "source": [
    "#### 1.Restecg with type 1 have more probablity of Heart dieases \n",
    "#### 2.Restecg with type 0 have less probablity of Heart dieases \n",
    "#### 3.Restecg with type 2 have less probablity of Heart dieases "
   ]
  },
  {
   "cell_type": "markdown",
   "metadata": {},
   "source": [
    "####  thalach(maximum heart rate achieved)"
   ]
  },
  {
   "cell_type": "code",
   "execution_count": 37,
   "metadata": {},
   "outputs": [
    {
     "data": {
      "text/plain": [
       "count    165.000000\n",
       "mean     158.466667\n",
       "std       19.174276\n",
       "min       96.000000\n",
       "25%      149.000000\n",
       "50%      161.000000\n",
       "75%      172.000000\n",
       "max      202.000000\n",
       "Name: thalach, dtype: float64"
      ]
     },
     "execution_count": 37,
     "metadata": {},
     "output_type": "execute_result"
    }
   ],
   "source": [
    "DF_HD['thalach'].describe() # Basic statstics for thalach for Heart diseases "
   ]
  },
  {
   "cell_type": "code",
   "execution_count": 38,
   "metadata": {},
   "outputs": [
    {
     "data": {
      "text/plain": [
       "count    138.000000\n",
       "mean     139.101449\n",
       "std       22.598782\n",
       "min       71.000000\n",
       "25%      125.000000\n",
       "50%      142.000000\n",
       "75%      156.000000\n",
       "max      195.000000\n",
       "Name: thalach, dtype: float64"
      ]
     },
     "execution_count": 38,
     "metadata": {},
     "output_type": "execute_result"
    }
   ],
   "source": [
    "DF_WHD['thalach'].describe() # Basic statstics for thalach for without Heart diseases "
   ]
  },
  {
   "cell_type": "code",
   "execution_count": 39,
   "metadata": {},
   "outputs": [
    {
     "data": {
      "image/png": "[encoded data removed]",
      "text/plain": [
       "<Figure size 432x288 with 1 Axes>"
      ]
     },
     "metadata": {},
     "output_type": "display_data"
    }
   ],
   "source": [
    "# Plot between target vs thalach\n",
    "pyplot.plot(DF[DF['target']==0]['thalach'].values,'ro',label='WHD')\n",
    "pyplot.plot(DF[DF['target']!=0]['thalach'].values,'bo',label='HD')\n",
    "pyplot.xlabel('Dummy_Index')\n",
    "pyplot.ylabel('thalach')\n",
    "pyplot.title('thalach vs Heart_dieases')\n",
    "pyplot.legend()\n",
    "pyplot.show()"
   ]
  },
  {
   "cell_type": "markdown",
   "metadata": {},
   "source": [
    "#### exang(exercise induced angina)"
   ]
  },
  {
   "cell_type": "code",
   "execution_count": 40,
   "metadata": {},
   "outputs": [
    {
     "data": {
      "text/plain": [
       "0    142\n",
       "1     23\n",
       "Name: exang, dtype: int64"
      ]
     },
     "execution_count": 40,
     "metadata": {},
     "output_type": "execute_result"
    }
   ],
   "source": [
    "DF_HD['exang'].value_counts()  # Value counts for categorical data (exang) for heart disease"
   ]
  },
  {
   "cell_type": "code",
   "execution_count": 41,
   "metadata": {},
   "outputs": [
    {
     "data": {
      "text/plain": [
       "1    76\n",
       "0    62\n",
       "Name: exang, dtype: int64"
      ]
     },
     "execution_count": 41,
     "metadata": {},
     "output_type": "execute_result"
    }
   ],
   "source": [
    "DF_WHD['exang'].value_counts() # Value counts for categorical data (exang) for without heart disease"
   ]
  },
  {
   "cell_type": "code",
   "execution_count": 42,
   "metadata": {},
   "outputs": [
    {
     "data": {
      "image/png": "[encoded data removed]",
      "text/plain": [
       "<Figure size 432x288 with 1 Axes>"
      ]
     },
     "metadata": {},
     "output_type": "display_data"
    }
   ],
   "source": [
    "exang_dist_df = pd.DataFrame(DF_HD['exang'].value_counts()).reset_index()\n",
    "exang_dist_Wdf = pd.DataFrame(DF_WHD['exang'].value_counts()).reset_index()\n",
    "exang_dist_df['class'] = \"HD\"\n",
    "exang_dist_Wdf['class'] = \"WHD\"\n",
    "exang_dist_df_copy = exang_dist_df.copy()\n",
    "exang_dist_df_copy = exang_dist_df_copy.append(exang_dist_Wdf)\n",
    "exang_dist_df_copy.columns = ['index','exang_frequency','class']\n",
    "sns.barplot(y='exang_frequency', x='index', data=exang_dist_df_copy, hue='class')\n",
    "pyplot.title('exang_frequency vs index')\n",
    "pyplot.show()"
   ]
  },
  {
   "cell_type": "markdown",
   "metadata": {},
   "source": [
    "#### More probablity of heart disease for Type 0 exang\n",
    "#### More probablity of heart disease for Type 1 exang\n"
   ]
  },
  {
   "cell_type": "markdown",
   "metadata": {},
   "source": [
    "#### oldpeak(ST depression induced by exercise relative to rest)"
   ]
  },
  {
   "cell_type": "code",
   "execution_count": 43,
   "metadata": {},
   "outputs": [
    {
     "data": {
      "text/plain": [
       "count    165.000000\n",
       "mean       0.583030\n",
       "std        0.780683\n",
       "min        0.000000\n",
       "25%        0.000000\n",
       "50%        0.200000\n",
       "75%        1.000000\n",
       "max        4.200000\n",
       "Name: oldpeak, dtype: float64"
      ]
     },
     "execution_count": 43,
     "metadata": {},
     "output_type": "execute_result"
    }
   ],
   "source": [
    "DF_HD[u'oldpeak'].describe() # Basic statstics for oldpeak for Heart diseases "
   ]
  },
  {
   "cell_type": "code",
   "execution_count": 44,
   "metadata": {},
   "outputs": [
    {
     "data": {
      "text/plain": [
       "count    138.000000\n",
       "mean       1.585507\n",
       "std        1.300340\n",
       "min        0.000000\n",
       "25%        0.600000\n",
       "50%        1.400000\n",
       "75%        2.500000\n",
       "max        6.200000\n",
       "Name: oldpeak, dtype: float64"
      ]
     },
     "execution_count": 44,
     "metadata": {},
     "output_type": "execute_result"
    }
   ],
   "source": [
    "DF_WHD[u'oldpeak'].describe() # Basic statstics for oldpeak for without Heart diseases "
   ]
  },
  {
   "cell_type": "code",
   "execution_count": 45,
   "metadata": {},
   "outputs": [
    {
     "data": {
      "image/png": "[encoded data removed]",
      "text/plain": [
       "<Figure size 432x288 with 1 Axes>"
      ]
     },
     "metadata": {},
     "output_type": "display_data"
    }
   ],
   "source": [
    "pyplot.plot(DF[DF['target']==0]['oldpeak'].values,'ro',label='WHD')\n",
    "pyplot.plot(DF[DF['target']!=0]['oldpeak'].values,'bo',label='HD')\n",
    "pyplot.xlabel('Dummy_Index')\n",
    "pyplot.ylabel('oldpeak')\n",
    "pyplot.title('oldpeak vs Heart_dieases')\n",
    "pyplot.legend()\n",
    "pyplot.show()"
   ]
  },
  {
   "cell_type": "markdown",
   "metadata": {},
   "source": [
    "#### slope(the slope of the peak exercise ST segment)"
   ]
  },
  {
   "cell_type": "code",
   "execution_count": 46,
   "metadata": {},
   "outputs": [
    {
     "data": {
      "text/plain": [
       "1    91\n",
       "2    35\n",
       "0    12\n",
       "Name: slope, dtype: int64"
      ]
     },
     "execution_count": 46,
     "metadata": {},
     "output_type": "execute_result"
    }
   ],
   "source": [
    "DF_WHD[u'slope'].value_counts() # Value counts for categorical data (slope) for heart disease"
   ]
  },
  {
   "cell_type": "code",
   "execution_count": 47,
   "metadata": {},
   "outputs": [
    {
     "data": {
      "text/plain": [
       "2    107\n",
       "1     49\n",
       "0      9\n",
       "Name: slope, dtype: int64"
      ]
     },
     "execution_count": 47,
     "metadata": {},
     "output_type": "execute_result"
    }
   ],
   "source": [
    "DF_HD[u'slope'].value_counts()  # Value counts for categorical data (slope) for without heart disease"
   ]
  },
  {
   "cell_type": "code",
   "execution_count": 48,
   "metadata": {},
   "outputs": [
    {
     "data": {
      "image/png": "[encoded data removed]",
      "text/plain": [
       "<Figure size 432x288 with 1 Axes>"
      ]
     },
     "metadata": {},
     "output_type": "display_data"
    }
   ],
   "source": [
    "slope_dist_df = pd.DataFrame(DF_HD['slope'].value_counts()).reset_index()\n",
    "slope_dist_Wdf = pd.DataFrame(DF_WHD['slope'].value_counts()).reset_index()\n",
    "slope_dist_df['class'] = \"HD\"\n",
    "slope_dist_Wdf['class'] = \"WHD\"\n",
    "slope_dist_df_copy = slope_dist_df.copy()\n",
    "slope_dist_df_copy = slope_dist_df_copy.append(slope_dist_Wdf)\n",
    "slope_dist_df_copy.columns = ['index','slope_frequency','class']\n",
    "sns.barplot(y='slope_frequency', x='index', data=slope_dist_df_copy, hue='class')\n",
    "pyplot.show()"
   ]
  },
  {
   "cell_type": "markdown",
   "metadata": {},
   "source": [
    "#### Slope 0 means Very less difference\n",
    "#### Slope 1 Means less probability  for Heart Disease\n",
    "#### Slope 2 Means high probability  for Heart Disease"
   ]
  },
  {
   "cell_type": "markdown",
   "metadata": {},
   "source": [
    "#### Ca(number of major vessels (0-3) colored by flourosopy)"
   ]
  },
  {
   "cell_type": "code",
   "execution_count": 46,
   "metadata": {},
   "outputs": [
    {
     "data": {
      "text/plain": [
       "0    130\n",
       "1     21\n",
       "2      7\n",
       "4      4\n",
       "3      3\n",
       "Name: ca, dtype: int64"
      ]
     },
     "execution_count": 46,
     "metadata": {},
     "output_type": "execute_result"
    }
   ],
   "source": [
    "DF_HD['ca'].value_counts() # Value counts for categorical data (ca) for heart disease"
   ]
  },
  {
   "cell_type": "code",
   "execution_count": 47,
   "metadata": {},
   "outputs": [
    {
     "data": {
      "text/plain": [
       "0    45\n",
       "1    44\n",
       "2    31\n",
       "3    17\n",
       "4     1\n",
       "Name: ca, dtype: int64"
      ]
     },
     "execution_count": 47,
     "metadata": {},
     "output_type": "execute_result"
    }
   ],
   "source": [
    "DF_WHD['ca'].value_counts() # Value counts for categorical data (ca) for without heart disease"
   ]
  },
  {
   "cell_type": "code",
   "execution_count": 48,
   "metadata": {},
   "outputs": [
    {
     "data": {
      "image/png": "[encoded data removed]",
      "text/plain": [
       "<Figure size 432x288 with 1 Axes>"
      ]
     },
     "metadata": {},
     "output_type": "display_data"
    }
   ],
   "source": [
    "ca_dist_df = pd.DataFrame(DF_HD['ca'].value_counts()).reset_index()\n",
    "ca_dist_Wdf = pd.DataFrame(DF_WHD['ca'].value_counts()).reset_index()\n",
    "ca_dist_df['class'] = \"HD\"\n",
    "ca_dist_Wdf['class'] = \"WHD\"\n",
    "ca_dist_df_copy = ca_dist_df.copy()\n",
    "ca_dist_df_copy = ca_dist_df_copy.append(ca_dist_Wdf)\n",
    "ca_dist_df_copy.columns =['index','ca_frequency','class']\n",
    "sns.barplot(y='ca_frequency', x='index', data=ca_dist_df_copy, hue='class')\n",
    "pyplot.title('ca_frequency vs index')\n",
    "pyplot.show()"
   ]
  },
  {
   "cell_type": "markdown",
   "metadata": {},
   "source": [
    "#### Ca with value 0 means high probability of Heart disease\n",
    "#### Ca with value 1 means low probability of Heart disease\n",
    "#### Ca with value 2 means low probability of Heart disease\n",
    "#### Ca with value 3 means low probability of Heart disease\n",
    "#### Ca with value 4 means very less difference in  positive and Negative class"
   ]
  },
  {
   "cell_type": "markdown",
   "metadata": {},
   "source": [
    "#### Thal(reversable defect)"
   ]
  },
  {
   "cell_type": "code",
   "execution_count": 49,
   "metadata": {},
   "outputs": [
    {
     "data": {
      "text/plain": [
       "2    130\n",
       "3     28\n",
       "1      6\n",
       "0      1\n",
       "Name: thal, dtype: int64"
      ]
     },
     "execution_count": 49,
     "metadata": {},
     "output_type": "execute_result"
    }
   ],
   "source": [
    "DF_HD['thal'].value_counts()# Value counts for categorical data (thal) for heart disease"
   ]
  },
  {
   "cell_type": "code",
   "execution_count": 50,
   "metadata": {},
   "outputs": [
    {
     "data": {
      "text/plain": [
       "3    89\n",
       "2    36\n",
       "1    12\n",
       "0     1\n",
       "Name: thal, dtype: int64"
      ]
     },
     "execution_count": 50,
     "metadata": {},
     "output_type": "execute_result"
    }
   ],
   "source": [
    "DF_WHD['thal'].value_counts()# Value counts for categorical data (thal) for without heart disease"
   ]
  },
  {
   "cell_type": "code",
   "execution_count": 51,
   "metadata": {},
   "outputs": [
    {
     "data": {
      "image/png": "[encoded data removed]",
      "text/plain": [
       "<Figure size 432x288 with 1 Axes>"
      ]
     },
     "metadata": {},
     "output_type": "display_data"
    }
   ],
   "source": [
    "thal_dist_df = pd.DataFrame(DF_HD['thal'].value_counts()).reset_index()\n",
    "thal_dist_Wdf = pd.DataFrame(DF_WHD['thal'].value_counts()).reset_index()\n",
    "thal_dist_df['class'] = \"HD\"\n",
    "thal_dist_Wdf['class'] = \"WHD\"\n",
    "thal_dist_df_copy = thal_dist_df.copy()\n",
    "thal_dist_df_copy = thal_dist_df_copy.append(thal_dist_Wdf)\n",
    "thal_dist_df_copy.columns = ['index','thal_frequency','class']\n",
    "sns.barplot(y='thal_frequency', x='index', data=thal_dist_df_copy, hue='class')\n",
    "pyplot.show()"
   ]
  },
  {
   "cell_type": "markdown",
   "metadata": {},
   "source": [
    "#### thal with value 2 have more probabilty of Heart disease\n",
    "#### thal with value 3 have less probabilty of Heart disease\n",
    "#### thal with value 1 very less difference in positive and Negative class\n",
    "#### thal with value 0 no difference positive and Negative class"
   ]
  },
  {
   "cell_type": "markdown",
   "metadata": {},
   "source": [
    "# Forming Feature Dataframe"
   ]
  },
  {
   "cell_type": "code",
   "execution_count": 52,
   "metadata": {},
   "outputs": [],
   "source": [
    "Features = ['thal','ca','slope','exang','restecg','trestbps','cp','sex'] # we will choose only these based on above analysis"
   ]
  },
  {
   "cell_type": "code",
   "execution_count": 53,
   "metadata": {},
   "outputs": [
    {
     "data": {
      "text/html": [
       "<div>\n",
       "<style scoped>\n",
       "    .dataframe tbody tr th:only-of-type {\n",
       "        vertical-align: middle;\n",
       "    }\n",
       "\n",
       "    .dataframe tbody tr th {\n",
       "        vertical-align: top;\n",
       "    }\n",
       "\n",
       "    .dataframe thead th {\n",
       "        text-align: right;\n",
       "    }\n",
       "</style>\n",
       "<table border=\"1\" class=\"dataframe\">\n",
       "  <thead>\n",
       "    <tr style=\"text-align: right;\">\n",
       "      <th></th>\n",
       "      <th>thal</th>\n",
       "      <th>ca</th>\n",
       "      <th>slope</th>\n",
       "      <th>exang</th>\n",
       "      <th>restecg</th>\n",
       "      <th>trestbps</th>\n",
       "      <th>cp</th>\n",
       "      <th>sex</th>\n",
       "    </tr>\n",
       "  </thead>\n",
       "  <tbody>\n",
       "    <tr>\n",
       "      <th>0</th>\n",
       "      <td>1</td>\n",
       "      <td>0</td>\n",
       "      <td>0</td>\n",
       "      <td>0</td>\n",
       "      <td>0</td>\n",
       "      <td>145</td>\n",
       "      <td>3</td>\n",
       "      <td>1</td>\n",
       "    </tr>\n",
       "    <tr>\n",
       "      <th>1</th>\n",
       "      <td>2</td>\n",
       "      <td>0</td>\n",
       "      <td>0</td>\n",
       "      <td>0</td>\n",
       "      <td>1</td>\n",
       "      <td>130</td>\n",
       "      <td>2</td>\n",
       "      <td>1</td>\n",
       "    </tr>\n",
       "    <tr>\n",
       "      <th>2</th>\n",
       "      <td>2</td>\n",
       "      <td>0</td>\n",
       "      <td>2</td>\n",
       "      <td>0</td>\n",
       "      <td>0</td>\n",
       "      <td>130</td>\n",
       "      <td>1</td>\n",
       "      <td>0</td>\n",
       "    </tr>\n",
       "    <tr>\n",
       "      <th>3</th>\n",
       "      <td>2</td>\n",
       "      <td>0</td>\n",
       "      <td>2</td>\n",
       "      <td>0</td>\n",
       "      <td>1</td>\n",
       "      <td>120</td>\n",
       "      <td>1</td>\n",
       "      <td>1</td>\n",
       "    </tr>\n",
       "    <tr>\n",
       "      <th>4</th>\n",
       "      <td>2</td>\n",
       "      <td>0</td>\n",
       "      <td>2</td>\n",
       "      <td>1</td>\n",
       "      <td>1</td>\n",
       "      <td>120</td>\n",
       "      <td>0</td>\n",
       "      <td>0</td>\n",
       "    </tr>\n",
       "  </tbody>\n",
       "</table>\n",
       "</div>"
      ],
      "text/plain": [
       "   thal  ca  slope  exang  restecg  trestbps  cp  sex\n",
       "0     1   0      0      0        0       145   3    1\n",
       "1     2   0      0      0        1       130   2    1\n",
       "2     2   0      2      0        0       130   1    0\n",
       "3     2   0      2      0        1       120   1    1\n",
       "4     2   0      2      1        1       120   0    0"
      ]
     },
     "execution_count": 53,
     "metadata": {},
     "output_type": "execute_result"
    }
   ],
   "source": [
    "Data[Features].head(5) # Print the prepared Data"
   ]
  },
  {
   "cell_type": "code",
   "execution_count": 54,
   "metadata": {},
   "outputs": [],
   "source": [
    "# This Function will convert categorical data to numerical data and put the data of different category into different column\n",
    "def one_hot_coding(Data,column_name):\n",
    "    thal_value = Data[column_name].tolist()\n",
    "    label_encoder = LabelEncoder()\n",
    "    integer_encoded = label_encoder.fit_transform(thal_value)\n",
    "    onehot_encoder = OneHotEncoder(sparse=False)\n",
    "    integer_encoded = integer_encoded.reshape(len(integer_encoded), 1)\n",
    "    onehot_encoded = onehot_encoder.fit_transform(integer_encoded)\n",
    "    new_df = pd.DataFrame(onehot_encoded)\n",
    "    new_df = rename_column(new_df,column_name)\n",
    "    return new_df"
   ]
  },
  {
   "cell_type": "code",
   "execution_count": 55,
   "metadata": {},
   "outputs": [],
   "source": [
    "# This function rename the columns created by above column \n",
    "def rename_column(new_df,column_name):\n",
    "    col_list = []\n",
    "    for i in range(0,len(new_df.columns)):\n",
    "        col_list.append(column_name+'_'+str(i))\n",
    "    new_df.columns = col_list\n",
    "    return new_df\n",
    "        \n"
   ]
  },
  {
   "cell_type": "code",
   "execution_count": 56,
   "metadata": {},
   "outputs": [],
   "source": [
    "# converting the categorical data to numerical data\n",
    "new_df_thal = one_hot_coding(Data,'thal')\n",
    "new_df_ca = one_hot_coding(Data,'ca')\n",
    "new_df_slope = one_hot_coding(Data,'slope')\n",
    "new_df_exang = one_hot_coding(Data,'exang')\n",
    "new_df_restecg = one_hot_coding(Data,'restecg')\n",
    "new_df_cp = one_hot_coding(Data,'cp')\n",
    "new_df_sex = one_hot_coding(Data,'sex')\n",
    "new_df_thalach = Data['thalach']\n",
    "new_df_oldpeak = Data['oldpeak']"
   ]
  },
  {
   "cell_type": "code",
   "execution_count": 57,
   "metadata": {},
   "outputs": [],
   "source": [
    "# Merging all the feature Dataframe into single Dataframe\n",
    "Merged_df = pd.concat([new_df_thal, new_df_ca,new_df_slope,new_df_exang,new_df_restecg,new_df_cp,new_df_sex,new_df_thalach,new_df_oldpeak], axis=1)"
   ]
  },
  {
   "cell_type": "code",
   "execution_count": 58,
   "metadata": {},
   "outputs": [],
   "source": [
    "# Normalizing the numerical data and bring them in range 0 to 1\n",
    "Merged_df['thalach'] = (Merged_df['thalach'] - np.min(Merged_df['thalach'])) / (np.max(Merged_df['thalach']) - np.min(Merged_df['thalach']))\n",
    "Merged_df['oldpeak'] = (Merged_df['oldpeak'] - np.min(Merged_df['oldpeak'])) / (np.max(Merged_df['oldpeak']) - np.min(Merged_df['oldpeak']))"
   ]
  },
  {
   "cell_type": "code",
   "execution_count": 59,
   "metadata": {},
   "outputs": [
    {
     "data": {
      "text/plain": [
       "Index(['thal_0', 'thal_1', 'thal_2', 'thal_3', 'ca_0', 'ca_1', 'ca_2', 'ca_3',\n",
       "       'ca_4', 'slope_0', 'slope_1', 'slope_2', 'exang_0', 'exang_1',\n",
       "       'restecg_0', 'restecg_1', 'restecg_2', 'cp_0', 'cp_1', 'cp_2', 'cp_3',\n",
       "       'sex_0', 'sex_1', 'thalach', 'oldpeak'],\n",
       "      dtype='object')"
      ]
     },
     "execution_count": 59,
     "metadata": {},
     "output_type": "execute_result"
    }
   ],
   "source": [
    "(Merged_df.columns)"
   ]
  },
  {
   "cell_type": "code",
   "execution_count": 60,
   "metadata": {},
   "outputs": [],
   "source": [
    "# Divide the data into input and Output data \n",
    "Merged_df['Output_variable'] = Data['target']\n",
    "Input_DF = Merged_df.drop(['Output_variable'],axis =1)"
   ]
  },
  {
   "cell_type": "code",
   "execution_count": 61,
   "metadata": {},
   "outputs": [],
   "source": [
    "# Divide the data into train and test data sets \n",
    "X_train, X_test, y_train, y_test = train_test_split(Input_DF, Merged_df['Output_variable'], test_size=0.20, random_state=42)"
   ]
  },
  {
   "cell_type": "code",
   "execution_count": 62,
   "metadata": {},
   "outputs": [
    {
     "data": {
      "text/plain": [
       "242"
      ]
     },
     "execution_count": 62,
     "metadata": {},
     "output_type": "execute_result"
    }
   ],
   "source": [
    "len(X_train)"
   ]
  },
  {
   "cell_type": "code",
   "execution_count": 63,
   "metadata": {},
   "outputs": [
    {
     "data": {
      "text/plain": [
       "61"
      ]
     },
     "execution_count": 63,
     "metadata": {},
     "output_type": "execute_result"
    }
   ],
   "source": [
    "len(X_test)"
   ]
  },
  {
   "cell_type": "markdown",
   "metadata": {},
   "source": [
    "# model selection"
   ]
  },
  {
   "cell_type": "code",
   "execution_count": 64,
   "metadata": {},
   "outputs": [],
   "source": [
    "# Intialization of classifier \n",
    "classifiers =[]\n",
    "model1 = LogisticRegression()\n",
    "classifiers.append(model1)\n",
    "model2 = SVC()\n",
    "classifiers.append(model2)\n",
    "model3 = DecisionTreeClassifier()\n",
    "classifiers.append(model3)\n",
    "model4 = RandomForestClassifier()\n",
    "classifiers.append(model4)\n",
    "model5 = AdaBoostClassifier()\n",
    "classifiers.append(model5)"
   ]
  },
  {
   "cell_type": "code",
   "execution_count": 65,
   "metadata": {},
   "outputs": [],
   "source": [
    "# List of models \n",
    "model_name = ['LogisticRegression','Support Vector Machine','DecisionTreeClassifier','RandomForestClassifier','AdaBoostClassifier']\n",
    "Training_score ,Testing_score,TP,FP,FN,Precision,Recall,classifiers_list = [],[],[],[],[],[],[],[]"
   ]
  },
  {
   "cell_type": "code",
   "execution_count": 66,
   "metadata": {},
   "outputs": [
    {
     "data": {
      "text/html": [
       "<div>\n",
       "<style scoped>\n",
       "    .dataframe tbody tr th:only-of-type {\n",
       "        vertical-align: middle;\n",
       "    }\n",
       "\n",
       "    .dataframe tbody tr th {\n",
       "        vertical-align: top;\n",
       "    }\n",
       "\n",
       "    .dataframe thead th {\n",
       "        text-align: right;\n",
       "    }\n",
       "</style>\n",
       "<table border=\"1\" class=\"dataframe\">\n",
       "  <thead>\n",
       "    <tr style=\"text-align: right;\">\n",
       "      <th></th>\n",
       "      <th>classifiers</th>\n",
       "      <th>Training_score</th>\n",
       "      <th>Testing_score</th>\n",
       "      <th>True_positive</th>\n",
       "      <th>False_positive</th>\n",
       "      <th>False_negative</th>\n",
       "      <th>Precision</th>\n",
       "      <th>Recall</th>\n",
       "    </tr>\n",
       "  </thead>\n",
       "  <tbody>\n",
       "    <tr>\n",
       "      <th>0</th>\n",
       "      <td>LogisticRegression</td>\n",
       "      <td>0.863636</td>\n",
       "      <td>0.885246</td>\n",
       "      <td>28</td>\n",
       "      <td>3</td>\n",
       "      <td>4</td>\n",
       "      <td>0.903226</td>\n",
       "      <td>0.87500</td>\n",
       "    </tr>\n",
       "    <tr>\n",
       "      <th>1</th>\n",
       "      <td>Support Vector Machine</td>\n",
       "      <td>0.867769</td>\n",
       "      <td>0.868852</td>\n",
       "      <td>28</td>\n",
       "      <td>4</td>\n",
       "      <td>4</td>\n",
       "      <td>0.875000</td>\n",
       "      <td>0.87500</td>\n",
       "    </tr>\n",
       "    <tr>\n",
       "      <th>2</th>\n",
       "      <td>DecisionTreeClassifier</td>\n",
       "      <td>1.000000</td>\n",
       "      <td>0.737705</td>\n",
       "      <td>22</td>\n",
       "      <td>6</td>\n",
       "      <td>10</td>\n",
       "      <td>0.785714</td>\n",
       "      <td>0.68750</td>\n",
       "    </tr>\n",
       "    <tr>\n",
       "      <th>3</th>\n",
       "      <td>RandomForestClassifier</td>\n",
       "      <td>0.987603</td>\n",
       "      <td>0.852459</td>\n",
       "      <td>27</td>\n",
       "      <td>4</td>\n",
       "      <td>5</td>\n",
       "      <td>0.870968</td>\n",
       "      <td>0.84375</td>\n",
       "    </tr>\n",
       "    <tr>\n",
       "      <th>4</th>\n",
       "      <td>AdaBoostClassifier</td>\n",
       "      <td>0.896694</td>\n",
       "      <td>0.819672</td>\n",
       "      <td>25</td>\n",
       "      <td>4</td>\n",
       "      <td>7</td>\n",
       "      <td>0.862069</td>\n",
       "      <td>0.78125</td>\n",
       "    </tr>\n",
       "  </tbody>\n",
       "</table>\n",
       "</div>"
      ],
      "text/plain": [
       "              classifiers  Training_score   ...     Precision   Recall\n",
       "0      LogisticRegression        0.863636   ...      0.903226  0.87500\n",
       "1  Support Vector Machine        0.867769   ...      0.875000  0.87500\n",
       "2  DecisionTreeClassifier        1.000000   ...      0.785714  0.68750\n",
       "3  RandomForestClassifier        0.987603   ...      0.870968  0.84375\n",
       "4      AdaBoostClassifier        0.896694   ...      0.862069  0.78125\n",
       "\n",
       "[5 rows x 8 columns]"
      ]
     },
     "execution_count": 66,
     "metadata": {},
     "output_type": "execute_result"
    }
   ],
   "source": [
    "# Running for differnent classifier and Save scores for different classfiers into model\n",
    "for i in range(0,len(classifiers)):\n",
    "    clf = classifiers[i]\n",
    "    clf.fit(X_train,y_train)\n",
    "    y_pred = clf.predict(X_test)\n",
    "    cm = confusion_matrix(y_test, y_pred)\n",
    "    classifiers_list.append(model_name[i])\n",
    "    Training_score.append(clf.score(X_train,y_train))\n",
    "    Testing_score.append(clf.score(X_test,y_test))\n",
    "    TP.append(cm[1][1])\n",
    "    FP.append(cm[0][1])\n",
    "    FN.append(cm[1][0])\n",
    "    Precision.append( precision_score(y_test,y_pred))\n",
    "    Recall.append(recall_score(y_test,y_pred))\n",
    "    \n",
    "Score_DF = pd.DataFrame()\n",
    "Score_DF['classifiers'] = classifiers_list\n",
    "Score_DF['Training_score'] = Training_score\n",
    "Score_DF['Testing_score'] = Testing_score\n",
    "Score_DF['True_positive'] = TP\n",
    "Score_DF['False_positive'] = FP\n",
    "Score_DF['False_negative'] = FN\n",
    "Score_DF['Precision'] = Precision\n",
    "Score_DF['Recall'] = Recall\n",
    "Score_DF"
   ]
  },
  {
   "cell_type": "markdown",
   "metadata": {},
   "source": [
    "# Hyperparameterzation"
   ]
  },
  {
   "cell_type": "markdown",
   "metadata": {},
   "source": [
    "# For Different Value of C and L2 Penalty"
   ]
  },
  {
   "cell_type": "code",
   "execution_count": 67,
   "metadata": {},
   "outputs": [
    {
     "data": {
      "text/html": [
       "<div>\n",
       "<style scoped>\n",
       "    .dataframe tbody tr th:only-of-type {\n",
       "        vertical-align: middle;\n",
       "    }\n",
       "\n",
       "    .dataframe tbody tr th {\n",
       "        vertical-align: top;\n",
       "    }\n",
       "\n",
       "    .dataframe thead th {\n",
       "        text-align: right;\n",
       "    }\n",
       "</style>\n",
       "<table border=\"1\" class=\"dataframe\">\n",
       "  <thead>\n",
       "    <tr style=\"text-align: right;\">\n",
       "      <th></th>\n",
       "      <th>C value</th>\n",
       "      <th>Training_score</th>\n",
       "      <th>Testing_score</th>\n",
       "      <th>True_positive</th>\n",
       "      <th>False_positive</th>\n",
       "      <th>False_negative</th>\n",
       "      <th>Precision</th>\n",
       "      <th>Recall</th>\n",
       "    </tr>\n",
       "  </thead>\n",
       "  <tbody>\n",
       "    <tr>\n",
       "      <th>0</th>\n",
       "      <td>0.0001</td>\n",
       "      <td>0.752066</td>\n",
       "      <td>0.836066</td>\n",
       "      <td>31</td>\n",
       "      <td>9</td>\n",
       "      <td>1</td>\n",
       "      <td>0.775000</td>\n",
       "      <td>0.96875</td>\n",
       "    </tr>\n",
       "    <tr>\n",
       "      <th>1</th>\n",
       "      <td>0.0010</td>\n",
       "      <td>0.797521</td>\n",
       "      <td>0.868852</td>\n",
       "      <td>31</td>\n",
       "      <td>7</td>\n",
       "      <td>1</td>\n",
       "      <td>0.815789</td>\n",
       "      <td>0.96875</td>\n",
       "    </tr>\n",
       "    <tr>\n",
       "      <th>2</th>\n",
       "      <td>0.0100</td>\n",
       "      <td>0.830579</td>\n",
       "      <td>0.901639</td>\n",
       "      <td>29</td>\n",
       "      <td>3</td>\n",
       "      <td>3</td>\n",
       "      <td>0.906250</td>\n",
       "      <td>0.90625</td>\n",
       "    </tr>\n",
       "    <tr>\n",
       "      <th>3</th>\n",
       "      <td>0.1000</td>\n",
       "      <td>0.867769</td>\n",
       "      <td>0.885246</td>\n",
       "      <td>28</td>\n",
       "      <td>3</td>\n",
       "      <td>4</td>\n",
       "      <td>0.903226</td>\n",
       "      <td>0.87500</td>\n",
       "    </tr>\n",
       "    <tr>\n",
       "      <th>4</th>\n",
       "      <td>1.0000</td>\n",
       "      <td>0.863636</td>\n",
       "      <td>0.885246</td>\n",
       "      <td>28</td>\n",
       "      <td>3</td>\n",
       "      <td>4</td>\n",
       "      <td>0.903226</td>\n",
       "      <td>0.87500</td>\n",
       "    </tr>\n",
       "    <tr>\n",
       "      <th>5</th>\n",
       "      <td>10.0000</td>\n",
       "      <td>0.880165</td>\n",
       "      <td>0.885246</td>\n",
       "      <td>28</td>\n",
       "      <td>3</td>\n",
       "      <td>4</td>\n",
       "      <td>0.903226</td>\n",
       "      <td>0.87500</td>\n",
       "    </tr>\n",
       "    <tr>\n",
       "      <th>6</th>\n",
       "      <td>20.0000</td>\n",
       "      <td>0.880165</td>\n",
       "      <td>0.885246</td>\n",
       "      <td>28</td>\n",
       "      <td>3</td>\n",
       "      <td>4</td>\n",
       "      <td>0.903226</td>\n",
       "      <td>0.87500</td>\n",
       "    </tr>\n",
       "    <tr>\n",
       "      <th>7</th>\n",
       "      <td>30.0000</td>\n",
       "      <td>0.880165</td>\n",
       "      <td>0.885246</td>\n",
       "      <td>28</td>\n",
       "      <td>3</td>\n",
       "      <td>4</td>\n",
       "      <td>0.903226</td>\n",
       "      <td>0.87500</td>\n",
       "    </tr>\n",
       "    <tr>\n",
       "      <th>8</th>\n",
       "      <td>40.0000</td>\n",
       "      <td>0.880165</td>\n",
       "      <td>0.868852</td>\n",
       "      <td>28</td>\n",
       "      <td>4</td>\n",
       "      <td>4</td>\n",
       "      <td>0.875000</td>\n",
       "      <td>0.87500</td>\n",
       "    </tr>\n",
       "    <tr>\n",
       "      <th>9</th>\n",
       "      <td>50.0000</td>\n",
       "      <td>0.876033</td>\n",
       "      <td>0.868852</td>\n",
       "      <td>28</td>\n",
       "      <td>4</td>\n",
       "      <td>4</td>\n",
       "      <td>0.875000</td>\n",
       "      <td>0.87500</td>\n",
       "    </tr>\n",
       "  </tbody>\n",
       "</table>\n",
       "</div>"
      ],
      "text/plain": [
       "   C value  Training_score   ...     Precision   Recall\n",
       "0   0.0001        0.752066   ...      0.775000  0.96875\n",
       "1   0.0010        0.797521   ...      0.815789  0.96875\n",
       "2   0.0100        0.830579   ...      0.906250  0.90625\n",
       "3   0.1000        0.867769   ...      0.903226  0.87500\n",
       "4   1.0000        0.863636   ...      0.903226  0.87500\n",
       "5  10.0000        0.880165   ...      0.903226  0.87500\n",
       "6  20.0000        0.880165   ...      0.903226  0.87500\n",
       "7  30.0000        0.880165   ...      0.903226  0.87500\n",
       "8  40.0000        0.880165   ...      0.875000  0.87500\n",
       "9  50.0000        0.876033   ...      0.875000  0.87500\n",
       "\n",
       "[10 rows x 8 columns]"
      ]
     },
     "execution_count": 67,
     "metadata": {},
     "output_type": "execute_result"
    }
   ],
   "source": [
    "# Since from above LogisticRegression was performing best between among the model and we will try with logistic model with different value of C ()\n",
    "c =[0.0001,0.001,0.01,0.1,1,10,20,30,40,50] # c is inverse of Regularization Coefficient\n",
    "Training_score ,Testing_score,TP,FP,FN,Precision,Recall,classifiers_list = [],[],[],[],[],[],[],[]\n",
    "for i in range(0,len(c)):\n",
    "    clf = LogisticRegression(penalty='l2', dual=False, tol=0.0001, C=c[i], fit_intercept=True, intercept_scaling=1, class_weight=None, random_state=None, solver='warn', max_iter=100, multi_class='warn', verbose=0, warm_start=False, n_jobs=None)\n",
    "    clf.fit(X_train,y_train)\n",
    "    y_pred = clf.predict(X_test)\n",
    "    cm = confusion_matrix(y_test, y_pred)\n",
    "    Training_score.append(clf.score(X_train,y_train))\n",
    "    Testing_score.append(clf.score(X_test,y_test))\n",
    "    TP.append(cm[1][1])\n",
    "    FP.append(cm[0][1])\n",
    "    FN.append(cm[1][0])\n",
    "    Precision.append( precision_score(y_test,y_pred))\n",
    "    Recall.append(recall_score(y_test,y_pred))\n",
    "\n",
    "Score_DF = pd.DataFrame()\n",
    "Score_DF['C value'] = c\n",
    "Score_DF['Training_score'] = Training_score\n",
    "Score_DF['Testing_score'] = Testing_score\n",
    "Score_DF['True_positive'] = TP\n",
    "Score_DF['False_positive'] = FP\n",
    "Score_DF['False_negative'] = FN\n",
    "Score_DF['Precision'] = Precision\n",
    "Score_DF['Recall'] = Recall\n",
    "Score_DF"
   ]
  },
  {
   "cell_type": "code",
   "execution_count": 68,
   "metadata": {},
   "outputs": [
    {
     "data": {
      "image/png": "[encoded data removed]",
      "text/plain": [
       "<Figure size 432x288 with 1 Axes>"
      ]
     },
     "metadata": {},
     "output_type": "display_data"
    }
   ],
   "source": [
    "# plot accuracy vs Regularization Coefficient\n",
    "pyplot.plot(c,Score_DF['Testing_score'],'r-',label='Testing_Accuracy')\n",
    "pyplot.plot(c,Score_DF['Training_score'],'b-',label='Trainig_Accuracy')\n",
    "pyplot.xlabel('Regularization Coefficient')\n",
    "pyplot.ylabel('Accuracy')\n",
    "pyplot.legend()\n",
    "axes = pyplot.gca()\n",
    "axes.set_ylim([0.70,1])\n",
    "pyplot.legend()\n",
    "pyplot.show()"
   ]
  },
  {
   "cell_type": "code",
   "execution_count": 69,
   "metadata": {},
   "outputs": [
    {
     "data": {
      "image/png": "[encoded data removed]",
      "text/plain": [
       "<Figure size 432x288 with 1 Axes>"
      ]
     },
     "metadata": {},
     "output_type": "display_data"
    }
   ],
   "source": [
    "# plot scores(Precision,Recall) vs Regularization Coefficient\n",
    "pyplot.plot(c,Score_DF['Precision'],'g-',label='Precision')\n",
    "pyplot.plot(c,Score_DF['Recall'],'y-',label='Recall')\n",
    "pyplot.xlabel('Regularization Coefficient')\n",
    "pyplot.ylabel('scores')\n",
    "pyplot.legend()\n",
    "pyplot.show()"
   ]
  },
  {
   "cell_type": "markdown",
   "metadata": {},
   "source": [
    "# For Different Value of C and L1 Penalty"
   ]
  },
  {
   "cell_type": "code",
   "execution_count": 70,
   "metadata": {},
   "outputs": [
    {
     "data": {
      "text/html": [
       "<div>\n",
       "<style scoped>\n",
       "    .dataframe tbody tr th:only-of-type {\n",
       "        vertical-align: middle;\n",
       "    }\n",
       "\n",
       "    .dataframe tbody tr th {\n",
       "        vertical-align: top;\n",
       "    }\n",
       "\n",
       "    .dataframe thead th {\n",
       "        text-align: right;\n",
       "    }\n",
       "</style>\n",
       "<table border=\"1\" class=\"dataframe\">\n",
       "  <thead>\n",
       "    <tr style=\"text-align: right;\">\n",
       "      <th></th>\n",
       "      <th>C value</th>\n",
       "      <th>Training_score</th>\n",
       "      <th>Testing_score</th>\n",
       "      <th>True_positive</th>\n",
       "      <th>False_positive</th>\n",
       "      <th>False_negative</th>\n",
       "      <th>Precision</th>\n",
       "      <th>Recall</th>\n",
       "    </tr>\n",
       "  </thead>\n",
       "  <tbody>\n",
       "    <tr>\n",
       "      <th>0</th>\n",
       "      <td>0.1</td>\n",
       "      <td>0.859504</td>\n",
       "      <td>0.901639</td>\n",
       "      <td>29</td>\n",
       "      <td>3</td>\n",
       "      <td>3</td>\n",
       "      <td>0.90625</td>\n",
       "      <td>0.90625</td>\n",
       "    </tr>\n",
       "    <tr>\n",
       "      <th>1</th>\n",
       "      <td>1.0</td>\n",
       "      <td>0.867769</td>\n",
       "      <td>0.868852</td>\n",
       "      <td>28</td>\n",
       "      <td>4</td>\n",
       "      <td>4</td>\n",
       "      <td>0.87500</td>\n",
       "      <td>0.87500</td>\n",
       "    </tr>\n",
       "    <tr>\n",
       "      <th>2</th>\n",
       "      <td>10.0</td>\n",
       "      <td>0.880165</td>\n",
       "      <td>0.868852</td>\n",
       "      <td>28</td>\n",
       "      <td>4</td>\n",
       "      <td>4</td>\n",
       "      <td>0.87500</td>\n",
       "      <td>0.87500</td>\n",
       "    </tr>\n",
       "    <tr>\n",
       "      <th>3</th>\n",
       "      <td>20.0</td>\n",
       "      <td>0.876033</td>\n",
       "      <td>0.868852</td>\n",
       "      <td>28</td>\n",
       "      <td>4</td>\n",
       "      <td>4</td>\n",
       "      <td>0.87500</td>\n",
       "      <td>0.87500</td>\n",
       "    </tr>\n",
       "    <tr>\n",
       "      <th>4</th>\n",
       "      <td>30.0</td>\n",
       "      <td>0.876033</td>\n",
       "      <td>0.868852</td>\n",
       "      <td>28</td>\n",
       "      <td>4</td>\n",
       "      <td>4</td>\n",
       "      <td>0.87500</td>\n",
       "      <td>0.87500</td>\n",
       "    </tr>\n",
       "    <tr>\n",
       "      <th>5</th>\n",
       "      <td>40.0</td>\n",
       "      <td>0.880165</td>\n",
       "      <td>0.868852</td>\n",
       "      <td>28</td>\n",
       "      <td>4</td>\n",
       "      <td>4</td>\n",
       "      <td>0.87500</td>\n",
       "      <td>0.87500</td>\n",
       "    </tr>\n",
       "    <tr>\n",
       "      <th>6</th>\n",
       "      <td>50.0</td>\n",
       "      <td>0.880165</td>\n",
       "      <td>0.868852</td>\n",
       "      <td>28</td>\n",
       "      <td>4</td>\n",
       "      <td>4</td>\n",
       "      <td>0.87500</td>\n",
       "      <td>0.87500</td>\n",
       "    </tr>\n",
       "  </tbody>\n",
       "</table>\n",
       "</div>"
      ],
      "text/plain": [
       "   C value  Training_score   ...     Precision   Recall\n",
       "0      0.1        0.859504   ...       0.90625  0.90625\n",
       "1      1.0        0.867769   ...       0.87500  0.87500\n",
       "2     10.0        0.880165   ...       0.87500  0.87500\n",
       "3     20.0        0.876033   ...       0.87500  0.87500\n",
       "4     30.0        0.876033   ...       0.87500  0.87500\n",
       "5     40.0        0.880165   ...       0.87500  0.87500\n",
       "6     50.0        0.880165   ...       0.87500  0.87500\n",
       "\n",
       "[7 rows x 8 columns]"
      ]
     },
     "execution_count": 70,
     "metadata": {},
     "output_type": "execute_result"
    }
   ],
   "source": [
    "# we will try with L1 Penalty and different value of Regularization Coefficient\n",
    "c =[0.1,1,10,20,30,40,50]\n",
    "Training_score ,Testing_score,TP,FP,FN,Precision,Recall,classifiers_list = [],[],[],[],[],[],[],[]\n",
    "for i in range(0,len(c)):\n",
    "    clf = LogisticRegression(penalty='l1', dual=False, tol=0.0001, C=c[i], fit_intercept=True, intercept_scaling=1, class_weight=None, random_state=None, solver='warn', max_iter=100, multi_class='warn', verbose=0, warm_start=False, n_jobs=None)\n",
    "    clf.fit(X_train,y_train)\n",
    "    y_pred = clf.predict(X_test)\n",
    "    cm = confusion_matrix(y_test, y_pred)\n",
    "    Training_score.append(clf.score(X_train,y_train))\n",
    "    Testing_score.append(clf.score(X_test,y_test))\n",
    "    TP.append(cm[1][1])\n",
    "    FP.append(cm[0][1])\n",
    "    FN.append(cm[1][0])\n",
    "    Precision.append( precision_score(y_test,y_pred))\n",
    "    Recall.append(recall_score(y_test,y_pred))\n",
    "\n",
    "Score_DF = pd.DataFrame()\n",
    "Score_DF['C value'] = c\n",
    "Score_DF['Training_score'] = Training_score\n",
    "Score_DF['Testing_score'] = Testing_score\n",
    "Score_DF['True_positive'] = TP\n",
    "Score_DF['False_positive'] = FP\n",
    "Score_DF['False_negative'] = FN\n",
    "Score_DF['Precision'] = Precision\n",
    "Score_DF['Recall'] = Recall\n",
    "Score_DF"
   ]
  },
  {
   "cell_type": "code",
   "execution_count": 71,
   "metadata": {},
   "outputs": [
    {
     "data": {
      "image/png": "[encoded data removed]",
      "text/plain": [
       "<Figure size 432x288 with 1 Axes>"
      ]
     },
     "metadata": {},
     "output_type": "display_data"
    }
   ],
   "source": [
    "# plot accuracy vs Regularization Coefficient\n",
    "pyplot.plot(c,Score_DF['Testing_score'],'r-',label='Testing_Accuracy')\n",
    "pyplot.plot(c,Score_DF['Training_score'],'b-',label='Trainig_Accuracy')\n",
    "pyplot.xlabel('Regularization Coefficient')\n",
    "pyplot.ylabel('Accuracy')\n",
    "pyplot.legend()\n",
    "axes = pyplot.gca()\n",
    "axes.set_ylim([0.70,1])\n",
    "pyplot.legend()\n",
    "pyplot.show()"
   ]
  },
  {
   "cell_type": "code",
   "execution_count": 72,
   "metadata": {},
   "outputs": [
    {
     "data": {
      "image/png": "[encoded data removed]",
      "text/plain": [
       "<Figure size 432x288 with 1 Axes>"
      ]
     },
     "metadata": {},
     "output_type": "display_data"
    }
   ],
   "source": [
    "# plot scores(Precision,Recall) vs Regularization Coefficient\n",
    "pyplot.plot(c,Score_DF['Precision'],'g-',label='Precision')\n",
    "pyplot.plot(c,Score_DF['Recall'],'y-',label='Recall')\n",
    "pyplot.xlabel('Regularization Coefficient')\n",
    "pyplot.ylabel('scores')\n",
    "pyplot.legend()\n",
    "pyplot.show()"
   ]
  }
 ],
 "metadata": {
  "kernelspec": {
   "display_name": "Python 3",
   "language": "python",
   "name": "python3"
  },
  "language_info": {
   "codemirror_mode": {
    "name": "ipython",
    "version": 3
   },
   "file_extension": ".py",
   "mimetype": "text/x-python",
   "name": "python",
   "nbconvert_exporter": "python",
   "pygments_lexer": "ipython3",
   "version": "3.6.5"
  }
 },
 "nbformat": 4,
 "nbformat_minor": 1
}
